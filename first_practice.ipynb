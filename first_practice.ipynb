{
 "cells": [
  {
   "cell_type": "code",
   "execution_count": 2,
   "id": "ce696e49",
   "metadata": {},
   "outputs": [],
   "source": [
    "# Import our dependencies\n",
    "import pandas as pd\n",
    "import matplotlib as plt\n",
    "from sklearn.datasets import make_blobs\n",
    "import sklearn as skl\n",
    "import tensorflow as tf"
   ]
  },
  {
   "cell_type": "code",
   "execution_count": 3,
   "id": "dd5a5e80",
   "metadata": {},
   "outputs": [
    {
     "data": {
      "text/plain": [
       "<AxesSubplot:xlabel='Feature 1', ylabel='Feature 2'>"
      ]
     },
     "execution_count": 3,
     "metadata": {},
     "output_type": "execute_result"
    },
    {
     "data": {
      "image/png": "[encoded data removed]",
      "text/plain": [
       "<Figure size 432x288 with 2 Axes>"
      ]
     },
     "metadata": {
      "needs_background": "light"
     },
     "output_type": "display_data"
    }
   ],
   "source": [
    "# Generate dummy dataset\n",
    "X, y = make_blobs(n_samples=1000, centers=2, n_features=2, random_state=78)\n",
    "\n",
    "# Creating a DataFrame with the dummy data\n",
    "df = pd.DataFrame(X, columns=[\"Feature 1\", \"Feature 2\"])\n",
    "df[\"Target\"] = y\n",
    "\n",
    "# Plotting the dummy data\n",
    "df.plot.scatter(x=\"Feature 1\", y=\"Feature 2\", c=\"Target\", colormap=\"winter\")"
   ]
  },
  {
   "cell_type": "code",
   "execution_count": 4,
   "id": "1bcf7a11",
   "metadata": {},
   "outputs": [],
   "source": [
    "# Use sklearn to split dataset\n",
    "from sklearn.model_selection import train_test_split\n",
    "X_train, X_test, y_train, y_test = train_test_split(X, y, random_state=78)"
   ]
  },
  {
   "cell_type": "code",
   "execution_count": 5,
   "id": "de64e279",
   "metadata": {},
   "outputs": [],
   "source": [
    "# Create scaler instance\n",
    "X_scaler = skl.preprocessing.StandardScaler()\n",
    "\n",
    "# Fit the scaler\n",
    "X_scaler.fit(X_train)\n",
    "\n",
    "# Scale the data\n",
    "X_train_scaled = X_scaler.transform(X_train)\n",
    "X_test_scaled = X_scaler.transform(X_test)"
   ]
  },
  {
   "cell_type": "code",
   "execution_count": 6,
   "id": "78bd0c5f",
   "metadata": {},
   "outputs": [],
   "source": [
    "# Create the Keras Sequential model\n",
    "nn_model = tf.keras.models.Sequential()"
   ]
  },
  {
   "cell_type": "code",
   "execution_count": 7,
   "id": "6485b6be",
   "metadata": {},
   "outputs": [],
   "source": [
    "# Add our first Dense layer, including the input layer\n",
    "nn_model.add(tf.keras.layers.Dense(units=1, activation=\"relu\", input_dim=2))"
   ]
  },
  {
   "cell_type": "code",
   "execution_count": 8,
   "id": "7d6d2482",
   "metadata": {},
   "outputs": [],
   "source": [
    "# Add the output layer that uses a probability activation function\n",
    "nn_model.add(tf.keras.layers.Dense(units=1, activation=\"sigmoid\"))"
   ]
  },
  {
   "cell_type": "code",
   "execution_count": 9,
   "id": "b62d0831",
   "metadata": {},
   "outputs": [
    {
     "name": "stdout",
     "output_type": "stream",
     "text": [
      "Model: \"sequential\"\n",
      "_________________________________________________________________\n",
      " Layer (type)                Output Shape              Param #   \n",
      "=================================================================\n",
      " dense (Dense)               (None, 1)                 3         \n",
      "                                                                 \n",
      " dense_1 (Dense)             (None, 1)                 2         \n",
      "                                                                 \n",
      "=================================================================\n",
      "Total params: 5\n",
      "Trainable params: 5\n",
      "Non-trainable params: 0\n",
      "_________________________________________________________________\n"
     ]
    }
   ],
   "source": [
    "# Check the structure of the Sequential model\n",
    "nn_model.summary()"
   ]
  },
  {
   "cell_type": "code",
   "execution_count": 10,
   "id": "130dd1ed",
   "metadata": {},
   "outputs": [],
   "source": [
    "# Compile the Sequential model together and customize metrics\n",
    "nn_model.compile(loss=\"binary_crossentropy\", optimizer=\"adam\", metrics=[\"accuracy\"])"
   ]
  },
  {
   "cell_type": "code",
   "execution_count": 11,
   "id": "afe28143",
   "metadata": {},
   "outputs": [
    {
     "name": "stdout",
     "output_type": "stream",
     "text": [
      "Epoch 1/100\n",
      "24/24 [==============================] - 0s 652us/step - loss: 0.6622 - accuracy: 0.6413\n",
      "Epoch 2/100\n",
      "24/24 [==============================] - 0s 609us/step - loss: 0.6484 - accuracy: 0.6560\n",
      "Epoch 3/100\n",
      "24/24 [==============================] - 0s 609us/step - loss: 0.6356 - accuracy: 0.6680\n",
      "Epoch 4/100\n",
      "24/24 [==============================] - 0s 609us/step - loss: 0.6239 - accuracy: 0.6773\n",
      "Epoch 5/100\n",
      "24/24 [==============================] - 0s 609us/step - loss: 0.6131 - accuracy: 0.6907\n",
      "Epoch 6/100\n",
      "24/24 [==============================] - 0s 565us/step - loss: 0.6029 - accuracy: 0.7000\n",
      "Epoch 7/100\n",
      "24/24 [==============================] - 0s 609us/step - loss: 0.5934 - accuracy: 0.7147\n",
      "Epoch 8/100\n",
      "24/24 [==============================] - 0s 609us/step - loss: 0.5843 - accuracy: 0.7213\n",
      "Epoch 9/100\n",
      "24/24 [==============================] - 0s 565us/step - loss: 0.5752 - accuracy: 0.7347\n",
      "Epoch 10/100\n",
      "24/24 [==============================] - 0s 609us/step - loss: 0.5666 - accuracy: 0.7413\n",
      "Epoch 11/100\n",
      "24/24 [==============================] - 0s 609us/step - loss: 0.5581 - accuracy: 0.7547\n",
      "Epoch 12/100\n",
      "24/24 [==============================] - 0s 565us/step - loss: 0.5494 - accuracy: 0.7587\n",
      "Epoch 13/100\n",
      "24/24 [==============================] - 0s 609us/step - loss: 0.5409 - accuracy: 0.7707\n",
      "Epoch 14/100\n",
      "24/24 [==============================] - 0s 609us/step - loss: 0.5327 - accuracy: 0.7787\n",
      "Epoch 15/100\n",
      "24/24 [==============================] - 0s 609us/step - loss: 0.5244 - accuracy: 0.7880\n",
      "Epoch 16/100\n",
      "24/24 [==============================] - 0s 652us/step - loss: 0.5163 - accuracy: 0.8013\n",
      "Epoch 17/100\n",
      "24/24 [==============================] - 0s 696us/step - loss: 0.5080 - accuracy: 0.8067\n",
      "Epoch 18/100\n",
      "24/24 [==============================] - 0s 652us/step - loss: 0.4999 - accuracy: 0.8107\n",
      "Epoch 19/100\n",
      "24/24 [==============================] - 0s 609us/step - loss: 0.4918 - accuracy: 0.8187\n",
      "Epoch 20/100\n",
      "24/24 [==============================] - 0s 609us/step - loss: 0.4837 - accuracy: 0.8240\n",
      "Epoch 21/100\n",
      "24/24 [==============================] - 0s 609us/step - loss: 0.4760 - accuracy: 0.8307\n",
      "Epoch 22/100\n",
      "24/24 [==============================] - 0s 652us/step - loss: 0.4685 - accuracy: 0.8320\n",
      "Epoch 23/100\n",
      "24/24 [==============================] - 0s 652us/step - loss: 0.4610 - accuracy: 0.8400\n",
      "Epoch 24/100\n",
      "24/24 [==============================] - 0s 565us/step - loss: 0.4534 - accuracy: 0.8480\n",
      "Epoch 25/100\n",
      "24/24 [==============================] - 0s 565us/step - loss: 0.4458 - accuracy: 0.8507\n",
      "Epoch 26/100\n",
      "24/24 [==============================] - 0s 565us/step - loss: 0.4385 - accuracy: 0.8547\n",
      "Epoch 27/100\n",
      "24/24 [==============================] - 0s 521us/step - loss: 0.4311 - accuracy: 0.8547\n",
      "Epoch 28/100\n",
      "24/24 [==============================] - 0s 609us/step - loss: 0.4239 - accuracy: 0.8600\n",
      "Epoch 29/100\n",
      "24/24 [==============================] - 0s 565us/step - loss: 0.4166 - accuracy: 0.8640\n",
      "Epoch 30/100\n",
      "24/24 [==============================] - 0s 565us/step - loss: 0.4094 - accuracy: 0.8653\n",
      "Epoch 31/100\n",
      "24/24 [==============================] - 0s 565us/step - loss: 0.4024 - accuracy: 0.8693\n",
      "Epoch 32/100\n",
      "24/24 [==============================] - 0s 565us/step - loss: 0.3955 - accuracy: 0.8720\n",
      "Epoch 33/100\n",
      "24/24 [==============================] - 0s 565us/step - loss: 0.3890 - accuracy: 0.8787\n",
      "Epoch 34/100\n",
      "24/24 [==============================] - 0s 565us/step - loss: 0.3822 - accuracy: 0.8813\n",
      "Epoch 35/100\n",
      "24/24 [==============================] - 0s 565us/step - loss: 0.3756 - accuracy: 0.8853\n",
      "Epoch 36/100\n",
      "24/24 [==============================] - 0s 565us/step - loss: 0.3688 - accuracy: 0.8907\n",
      "Epoch 37/100\n",
      "24/24 [==============================] - 0s 565us/step - loss: 0.3623 - accuracy: 0.8920\n",
      "Epoch 38/100\n",
      "24/24 [==============================] - 0s 565us/step - loss: 0.3559 - accuracy: 0.9013\n",
      "Epoch 39/100\n",
      "24/24 [==============================] - 0s 565us/step - loss: 0.3494 - accuracy: 0.9053\n",
      "Epoch 40/100\n",
      "24/24 [==============================] - 0s 608us/step - loss: 0.3429 - accuracy: 0.9080\n",
      "Epoch 41/100\n",
      "24/24 [==============================] - 0s 565us/step - loss: 0.3365 - accuracy: 0.9147\n",
      "Epoch 42/100\n",
      "24/24 [==============================] - 0s 609us/step - loss: 0.3302 - accuracy: 0.9147\n",
      "Epoch 43/100\n",
      "24/24 [==============================] - 0s 565us/step - loss: 0.3240 - accuracy: 0.9147\n",
      "Epoch 44/100\n",
      "24/24 [==============================] - 0s 565us/step - loss: 0.3179 - accuracy: 0.9173\n",
      "Epoch 45/100\n",
      "24/24 [==============================] - 0s 652us/step - loss: 0.3118 - accuracy: 0.9213\n",
      "Epoch 46/100\n",
      "24/24 [==============================] - 0s 652us/step - loss: 0.3059 - accuracy: 0.9240\n",
      "Epoch 47/100\n",
      "24/24 [==============================] - 0s 565us/step - loss: 0.3002 - accuracy: 0.9240\n",
      "Epoch 48/100\n",
      "24/24 [==============================] - 0s 565us/step - loss: 0.2944 - accuracy: 0.9267\n",
      "Epoch 49/100\n",
      "24/24 [==============================] - 0s 565us/step - loss: 0.2888 - accuracy: 0.9320\n",
      "Epoch 50/100\n",
      "24/24 [==============================] - 0s 565us/step - loss: 0.2833 - accuracy: 0.9360\n",
      "Epoch 51/100\n",
      "24/24 [==============================] - 0s 696us/step - loss: 0.2779 - accuracy: 0.9400\n",
      "Epoch 52/100\n",
      "24/24 [==============================] - 0s 565us/step - loss: 0.2724 - accuracy: 0.9427\n",
      "Epoch 53/100\n",
      "24/24 [==============================] - 0s 609us/step - loss: 0.2667 - accuracy: 0.9427\n",
      "Epoch 54/100\n",
      "24/24 [==============================] - 0s 565us/step - loss: 0.2611 - accuracy: 0.9440\n",
      "Epoch 55/100\n",
      "24/24 [==============================] - 0s 608us/step - loss: 0.2558 - accuracy: 0.9467\n",
      "Epoch 56/100\n",
      "24/24 [==============================] - 0s 565us/step - loss: 0.2503 - accuracy: 0.9480\n",
      "Epoch 57/100\n",
      "24/24 [==============================] - 0s 608us/step - loss: 0.2448 - accuracy: 0.9493\n",
      "Epoch 58/100\n",
      "24/24 [==============================] - 0s 608us/step - loss: 0.2392 - accuracy: 0.9507\n",
      "Epoch 59/100\n",
      "24/24 [==============================] - 0s 609us/step - loss: 0.2337 - accuracy: 0.9507\n",
      "Epoch 60/100\n",
      "24/24 [==============================] - 0s 565us/step - loss: 0.2281 - accuracy: 0.9547\n",
      "Epoch 61/100\n",
      "24/24 [==============================] - 0s 565us/step - loss: 0.2225 - accuracy: 0.9547\n",
      "Epoch 62/100\n",
      "24/24 [==============================] - 0s 609us/step - loss: 0.2169 - accuracy: 0.9573\n",
      "Epoch 63/100\n",
      "24/24 [==============================] - 0s 565us/step - loss: 0.2114 - accuracy: 0.9573\n",
      "Epoch 64/100\n",
      "24/24 [==============================] - 0s 565us/step - loss: 0.2062 - accuracy: 0.9573\n",
      "Epoch 65/100\n",
      "24/24 [==============================] - 0s 565us/step - loss: 0.2011 - accuracy: 0.9600\n",
      "Epoch 66/100\n",
      "24/24 [==============================] - 0s 565us/step - loss: 0.1961 - accuracy: 0.9627\n",
      "Epoch 67/100\n",
      "24/24 [==============================] - 0s 565us/step - loss: 0.1913 - accuracy: 0.9667\n",
      "Epoch 68/100\n",
      "24/24 [==============================] - 0s 565us/step - loss: 0.1866 - accuracy: 0.9693\n",
      "Epoch 69/100\n",
      "24/24 [==============================] - 0s 565us/step - loss: 0.1820 - accuracy: 0.9707\n",
      "Epoch 70/100\n",
      "24/24 [==============================] - 0s 565us/step - loss: 0.1776 - accuracy: 0.9733\n",
      "Epoch 71/100\n",
      "24/24 [==============================] - 0s 565us/step - loss: 0.1735 - accuracy: 0.9747\n",
      "Epoch 72/100\n",
      "24/24 [==============================] - 0s 565us/step - loss: 0.1693 - accuracy: 0.9760\n",
      "Epoch 73/100\n",
      "24/24 [==============================] - 0s 609us/step - loss: 0.1653 - accuracy: 0.9760\n",
      "Epoch 74/100\n",
      "24/24 [==============================] - 0s 609us/step - loss: 0.1616 - accuracy: 0.9800\n",
      "Epoch 75/100\n",
      "24/24 [==============================] - 0s 565us/step - loss: 0.1578 - accuracy: 0.9813\n",
      "Epoch 76/100\n",
      "24/24 [==============================] - 0s 565us/step - loss: 0.1541 - accuracy: 0.9827\n",
      "Epoch 77/100\n",
      "24/24 [==============================] - 0s 609us/step - loss: 0.1502 - accuracy: 0.9827\n",
      "Epoch 78/100\n",
      "24/24 [==============================] - 0s 609us/step - loss: 0.1467 - accuracy: 0.9853\n",
      "Epoch 79/100\n",
      "24/24 [==============================] - 0s 609us/step - loss: 0.1431 - accuracy: 0.9853\n",
      "Epoch 80/100\n",
      "24/24 [==============================] - 0s 565us/step - loss: 0.1398 - accuracy: 0.9867\n",
      "Epoch 81/100\n"
     ]
    },
    {
     "name": "stdout",
     "output_type": "stream",
     "text": [
      "24/24 [==============================] - 0s 608us/step - loss: 0.1363 - accuracy: 0.9880\n",
      "Epoch 82/100\n",
      "24/24 [==============================] - 0s 565us/step - loss: 0.1330 - accuracy: 0.9880\n",
      "Epoch 83/100\n",
      "24/24 [==============================] - 0s 608us/step - loss: 0.1298 - accuracy: 0.9880\n",
      "Epoch 84/100\n",
      "24/24 [==============================] - 0s 565us/step - loss: 0.1268 - accuracy: 0.9880\n",
      "Epoch 85/100\n",
      "24/24 [==============================] - 0s 565us/step - loss: 0.1239 - accuracy: 0.9880\n",
      "Epoch 86/100\n",
      "24/24 [==============================] - 0s 565us/step - loss: 0.1211 - accuracy: 0.9893\n",
      "Epoch 87/100\n",
      "24/24 [==============================] - 0s 565us/step - loss: 0.1184 - accuracy: 0.9920\n",
      "Epoch 88/100\n",
      "24/24 [==============================] - 0s 565us/step - loss: 0.1157 - accuracy: 0.9920\n",
      "Epoch 89/100\n",
      "24/24 [==============================] - 0s 565us/step - loss: 0.1131 - accuracy: 0.9920\n",
      "Epoch 90/100\n",
      "24/24 [==============================] - 0s 565us/step - loss: 0.1107 - accuracy: 0.9920\n",
      "Epoch 91/100\n",
      "24/24 [==============================] - 0s 565us/step - loss: 0.1083 - accuracy: 0.9920\n",
      "Epoch 92/100\n",
      "24/24 [==============================] - 0s 565us/step - loss: 0.1060 - accuracy: 0.9920\n",
      "Epoch 93/100\n",
      "24/24 [==============================] - 0s 608us/step - loss: 0.1038 - accuracy: 0.9920\n",
      "Epoch 94/100\n",
      "24/24 [==============================] - 0s 609us/step - loss: 0.1016 - accuracy: 0.9920\n",
      "Epoch 95/100\n",
      "24/24 [==============================] - 0s 565us/step - loss: 0.0996 - accuracy: 0.9933\n",
      "Epoch 96/100\n",
      "24/24 [==============================] - 0s 565us/step - loss: 0.0975 - accuracy: 0.9933\n",
      "Epoch 97/100\n",
      "24/24 [==============================] - 0s 652us/step - loss: 0.0956 - accuracy: 0.9933\n",
      "Epoch 98/100\n",
      "24/24 [==============================] - 0s 565us/step - loss: 0.0937 - accuracy: 0.9947\n",
      "Epoch 99/100\n",
      "24/24 [==============================] - 0s 609us/step - loss: 0.0918 - accuracy: 0.9960\n",
      "Epoch 100/100\n",
      "24/24 [==============================] - 0s 579us/step - loss: 0.0901 - accuracy: 0.9960\n"
     ]
    }
   ],
   "source": [
    "# Fit the model to the training data\n",
    "fit_model = nn_model.fit(X_train_scaled, y_train, epochs=100)"
   ]
  },
  {
   "cell_type": "code",
   "execution_count": 12,
   "id": "236ab1d9",
   "metadata": {},
   "outputs": [
    {
     "data": {
      "text/plain": [
       "<AxesSubplot:>"
      ]
     },
     "execution_count": 12,
     "metadata": {},
     "output_type": "execute_result"
    },
    {
     "data": {
      "image/png": "[encoded data removed]",
      "text/plain": [
       "<Figure size 432x288 with 1 Axes>"
      ]
     },
     "metadata": {
      "needs_background": "light"
     },
     "output_type": "display_data"
    }
   ],
   "source": [
    "# Create a DataFrame containing training history\n",
    "history_df = pd.DataFrame(fit_model.history, index=range(1,len(fit_model.history[\"loss\"])+1))\n",
    "\n",
    "# Plot the loss\n",
    "history_df.plot(y=\"loss\")"
   ]
  },
  {
   "cell_type": "code",
   "execution_count": 13,
   "id": "f36c5680",
   "metadata": {},
   "outputs": [
    {
     "data": {
      "text/plain": [
       "<AxesSubplot:>"
      ]
     },
     "execution_count": 13,
     "metadata": {},
     "output_type": "execute_result"
    },
    {
     "data": {
      "image/png": "[encoded data removed]",
      "text/plain": [
       "<Figure size 432x288 with 1 Axes>"
      ]
     },
     "metadata": {
      "needs_background": "light"
     },
     "output_type": "display_data"
    }
   ],
   "source": [
    "# Plot the accuracy\n",
    "history_df.plot(y=\"accuracy\")"
   ]
  },
  {
   "cell_type": "code",
   "execution_count": 14,
   "id": "7d997f75",
   "metadata": {},
   "outputs": [
    {
     "name": "stdout",
     "output_type": "stream",
     "text": [
      "8/8 - 0s - loss: 0.0820 - accuracy: 1.0000 - 87ms/epoch - 11ms/step\n",
      "Loss: 0.0820031613111496, Accuracy: 1.0\n"
     ]
    }
   ],
   "source": [
    "# Evaluate the model using the test data\n",
    "model_loss, model_accuracy = nn_model.evaluate(X_test_scaled,y_test,verbose=2)\n",
    "print(f\"Loss: {model_loss}, Accuracy: {model_accuracy}\")"
   ]
  },
  {
   "cell_type": "code",
   "execution_count": 15,
   "id": "c65f8a52",
   "metadata": {},
   "outputs": [
    {
     "name": "stdout",
     "output_type": "stream",
     "text": [
      "1/1 [==============================] - 0s 49ms/step\n"
     ]
    },
    {
     "data": {
      "text/plain": [
       "array([[0],\n",
       "       [1],\n",
       "       [0],\n",
       "       [1],\n",
       "       [0],\n",
       "       [0],\n",
       "       [1],\n",
       "       [1],\n",
       "       [1],\n",
       "       [0]])"
      ]
     },
     "execution_count": 15,
     "metadata": {},
     "output_type": "execute_result"
    }
   ],
   "source": [
    "# Predict the classification of a new set of blob data\n",
    "new_X, new_Y = make_blobs(n_samples=10, centers=2, n_features=2, random_state=78)\n",
    "new_X_scaled = X_scaler.transform(new_X)\n",
    "(nn_model.predict(new_X_scaled) > 0.5).astype(\"int32\")"
   ]
  },
  {
   "cell_type": "code",
   "execution_count": 16,
   "id": "41225152",
   "metadata": {},
   "outputs": [
    {
     "data": {
      "text/plain": [
       "<AxesSubplot:xlabel='Feature 1', ylabel='Feature 2'>"
      ]
     },
     "execution_count": 16,
     "metadata": {},
     "output_type": "execute_result"
    },
    {
     "data": {
      "image/png": "[encoded data removed]",
      "text/plain": [
       "<Figure size 432x288 with 2 Axes>"
      ]
     },
     "metadata": {
      "needs_background": "light"
     },
     "output_type": "display_data"
    }
   ],
   "source": [
    "from sklearn.datasets import make_moons\n",
    "\n",
    "# Creating dummy nonlinear data\n",
    "X_moons, y_moons = make_moons(n_samples=1000, noise=0.08, random_state=78)\n",
    "\n",
    "# Transforming y_moons to a vertical vector\n",
    "y_moons = y_moons.reshape(-1, 1)\n",
    "\n",
    "# Creating a DataFrame to plot the nonlinear dummy data\n",
    "df_moons = pd.DataFrame(X_moons, columns=[\"Feature 1\", \"Feature 2\"])\n",
    "df_moons[\"Target\"] = y_moons\n",
    "\n",
    "# Plot the nonlinear dummy data\n",
    "df_moons.plot.scatter(x=\"Feature 1\",y=\"Feature 2\", c=\"Target\",colormap=\"winter\")"
   ]
  },
  {
   "cell_type": "code",
   "execution_count": 17,
   "id": "010fc14a",
   "metadata": {},
   "outputs": [],
   "source": [
    "# Create training and testing sets\n",
    "X_moon_train, X_moon_test, y_moon_train, y_moon_test = train_test_split(\n",
    "    X_moons, y_moons, random_state=78\n",
    ")\n",
    "\n",
    "# Create the scaler instance\n",
    "X_moon_scaler = skl.preprocessing.StandardScaler()\n",
    "\n",
    "# Fit the scaler\n",
    "X_moon_scaler.fit(X_moon_train)\n",
    "\n",
    "# Scale the data\n",
    "X_moon_train_scaled = X_moon_scaler.transform(X_moon_train)\n",
    "X_moon_test_scaled = X_moon_scaler.transform(X_moon_test)"
   ]
  },
  {
   "cell_type": "code",
   "execution_count": 18,
   "id": "cc0c0183",
   "metadata": {},
   "outputs": [
    {
     "name": "stdout",
     "output_type": "stream",
     "text": [
      "Epoch 1/100\n",
      "24/24 [==============================] - 0s 652us/step - loss: 1.4795 - accuracy: 0.3533\n",
      "Epoch 2/100\n",
      "24/24 [==============================] - 0s 565us/step - loss: 1.2403 - accuracy: 0.3840\n",
      "Epoch 3/100\n",
      "24/24 [==============================] - 0s 565us/step - loss: 1.0878 - accuracy: 0.4187\n",
      "Epoch 4/100\n",
      "24/24 [==============================] - 0s 565us/step - loss: 0.9929 - accuracy: 0.4413\n",
      "Epoch 5/100\n",
      "24/24 [==============================] - 0s 609us/step - loss: 0.9227 - accuracy: 0.4653\n",
      "Epoch 6/100\n",
      "24/24 [==============================] - 0s 565us/step - loss: 0.8702 - accuracy: 0.4947\n",
      "Epoch 7/100\n",
      "24/24 [==============================] - 0s 608us/step - loss: 0.8302 - accuracy: 0.5240\n",
      "Epoch 8/100\n",
      "24/24 [==============================] - 0s 609us/step - loss: 0.7974 - accuracy: 0.5453\n",
      "Epoch 9/100\n",
      "24/24 [==============================] - 0s 609us/step - loss: 0.7704 - accuracy: 0.5600\n",
      "Epoch 10/100\n",
      "24/24 [==============================] - 0s 609us/step - loss: 0.7467 - accuracy: 0.5747\n",
      "Epoch 11/100\n",
      "24/24 [==============================] - 0s 652us/step - loss: 0.7266 - accuracy: 0.5880\n",
      "Epoch 12/100\n",
      "24/24 [==============================] - 0s 652us/step - loss: 0.7081 - accuracy: 0.6027\n",
      "Epoch 13/100\n",
      "24/24 [==============================] - 0s 565us/step - loss: 0.6914 - accuracy: 0.6200\n",
      "Epoch 14/100\n",
      "24/24 [==============================] - 0s 652us/step - loss: 0.6755 - accuracy: 0.6280\n",
      "Epoch 15/100\n",
      "24/24 [==============================] - 0s 609us/step - loss: 0.6601 - accuracy: 0.6373\n",
      "Epoch 16/100\n",
      "24/24 [==============================] - 0s 609us/step - loss: 0.6466 - accuracy: 0.6453\n",
      "Epoch 17/100\n",
      "24/24 [==============================] - 0s 609us/step - loss: 0.6338 - accuracy: 0.6533\n",
      "Epoch 18/100\n",
      "24/24 [==============================] - 0s 609us/step - loss: 0.6219 - accuracy: 0.6680\n",
      "Epoch 19/100\n",
      "24/24 [==============================] - 0s 565us/step - loss: 0.6107 - accuracy: 0.6747\n",
      "Epoch 20/100\n",
      "24/24 [==============================] - 0s 609us/step - loss: 0.6004 - accuracy: 0.6760\n",
      "Epoch 21/100\n",
      "24/24 [==============================] - 0s 565us/step - loss: 0.5905 - accuracy: 0.6787\n",
      "Epoch 22/100\n",
      "24/24 [==============================] - 0s 609us/step - loss: 0.5807 - accuracy: 0.6840\n",
      "Epoch 23/100\n",
      "24/24 [==============================] - 0s 609us/step - loss: 0.5717 - accuracy: 0.6853\n",
      "Epoch 24/100\n",
      "24/24 [==============================] - 0s 696us/step - loss: 0.5632 - accuracy: 0.6880\n",
      "Epoch 25/100\n",
      "24/24 [==============================] - 0s 609us/step - loss: 0.5549 - accuracy: 0.6920\n",
      "Epoch 26/100\n",
      "24/24 [==============================] - 0s 522us/step - loss: 0.5466 - accuracy: 0.7000\n",
      "Epoch 27/100\n",
      "24/24 [==============================] - 0s 565us/step - loss: 0.5388 - accuracy: 0.7013\n",
      "Epoch 28/100\n",
      "24/24 [==============================] - 0s 565us/step - loss: 0.5312 - accuracy: 0.7040\n",
      "Epoch 29/100\n",
      "24/24 [==============================] - 0s 565us/step - loss: 0.5239 - accuracy: 0.7107\n",
      "Epoch 30/100\n",
      "24/24 [==============================] - 0s 609us/step - loss: 0.5170 - accuracy: 0.7160\n",
      "Epoch 31/100\n",
      "24/24 [==============================] - 0s 609us/step - loss: 0.5106 - accuracy: 0.7267\n",
      "Epoch 32/100\n",
      "24/24 [==============================] - 0s 565us/step - loss: 0.5041 - accuracy: 0.7293\n",
      "Epoch 33/100\n",
      "24/24 [==============================] - 0s 565us/step - loss: 0.4981 - accuracy: 0.7400\n",
      "Epoch 34/100\n",
      "24/24 [==============================] - 0s 609us/step - loss: 0.4921 - accuracy: 0.7413\n",
      "Epoch 35/100\n",
      "24/24 [==============================] - 0s 609us/step - loss: 0.4863 - accuracy: 0.7440\n",
      "Epoch 36/100\n",
      "24/24 [==============================] - 0s 609us/step - loss: 0.4809 - accuracy: 0.7480\n",
      "Epoch 37/100\n",
      "24/24 [==============================] - 0s 609us/step - loss: 0.4756 - accuracy: 0.7493\n",
      "Epoch 38/100\n",
      "24/24 [==============================] - 0s 609us/step - loss: 0.4705 - accuracy: 0.7533\n",
      "Epoch 39/100\n",
      "24/24 [==============================] - 0s 565us/step - loss: 0.4657 - accuracy: 0.7587\n",
      "Epoch 40/100\n",
      "24/24 [==============================] - 0s 565us/step - loss: 0.4607 - accuracy: 0.7640\n",
      "Epoch 41/100\n",
      "24/24 [==============================] - 0s 609us/step - loss: 0.4560 - accuracy: 0.7693\n",
      "Epoch 42/100\n",
      "24/24 [==============================] - 0s 565us/step - loss: 0.4512 - accuracy: 0.7720\n",
      "Epoch 43/100\n",
      "24/24 [==============================] - 0s 565us/step - loss: 0.4467 - accuracy: 0.7747\n",
      "Epoch 44/100\n",
      "24/24 [==============================] - 0s 565us/step - loss: 0.4421 - accuracy: 0.7787\n",
      "Epoch 45/100\n",
      "24/24 [==============================] - 0s 565us/step - loss: 0.4375 - accuracy: 0.7800\n",
      "Epoch 46/100\n",
      "24/24 [==============================] - 0s 565us/step - loss: 0.4329 - accuracy: 0.7813\n",
      "Epoch 47/100\n",
      "24/24 [==============================] - 0s 609us/step - loss: 0.4286 - accuracy: 0.7853\n",
      "Epoch 48/100\n",
      "24/24 [==============================] - 0s 609us/step - loss: 0.4238 - accuracy: 0.7907\n",
      "Epoch 49/100\n",
      "24/24 [==============================] - 0s 609us/step - loss: 0.4190 - accuracy: 0.7920\n",
      "Epoch 50/100\n",
      "24/24 [==============================] - 0s 609us/step - loss: 0.4143 - accuracy: 0.7920\n",
      "Epoch 51/100\n",
      "24/24 [==============================] - 0s 652us/step - loss: 0.4097 - accuracy: 0.7933\n",
      "Epoch 52/100\n",
      "24/24 [==============================] - 0s 594us/step - loss: 0.4050 - accuracy: 0.7960\n",
      "Epoch 53/100\n",
      "24/24 [==============================] - 0s 653us/step - loss: 0.4005 - accuracy: 0.7973\n",
      "Epoch 54/100\n",
      "24/24 [==============================] - 0s 609us/step - loss: 0.3959 - accuracy: 0.8053\n",
      "Epoch 55/100\n",
      "24/24 [==============================] - 0s 608us/step - loss: 0.3915 - accuracy: 0.8160\n",
      "Epoch 56/100\n",
      "24/24 [==============================] - 0s 609us/step - loss: 0.3871 - accuracy: 0.8200\n",
      "Epoch 57/100\n",
      "24/24 [==============================] - 0s 565us/step - loss: 0.3828 - accuracy: 0.8293\n",
      "Epoch 58/100\n",
      "24/24 [==============================] - 0s 565us/step - loss: 0.3785 - accuracy: 0.8293\n",
      "Epoch 59/100\n",
      "24/24 [==============================] - 0s 609us/step - loss: 0.3743 - accuracy: 0.8293\n",
      "Epoch 60/100\n",
      "24/24 [==============================] - 0s 565us/step - loss: 0.3698 - accuracy: 0.8333\n",
      "Epoch 61/100\n",
      "24/24 [==============================] - 0s 609us/step - loss: 0.3652 - accuracy: 0.8347\n",
      "Epoch 62/100\n",
      "24/24 [==============================] - 0s 609us/step - loss: 0.3609 - accuracy: 0.8373\n",
      "Epoch 63/100\n",
      "24/24 [==============================] - 0s 609us/step - loss: 0.3568 - accuracy: 0.8373\n",
      "Epoch 64/100\n",
      "24/24 [==============================] - 0s 609us/step - loss: 0.3527 - accuracy: 0.8413\n",
      "Epoch 65/100\n",
      "24/24 [==============================] - 0s 565us/step - loss: 0.3486 - accuracy: 0.8427\n",
      "Epoch 66/100\n",
      "24/24 [==============================] - 0s 609us/step - loss: 0.3451 - accuracy: 0.8440\n",
      "Epoch 67/100\n",
      "24/24 [==============================] - 0s 609us/step - loss: 0.3412 - accuracy: 0.8453\n",
      "Epoch 68/100\n",
      "24/24 [==============================] - 0s 565us/step - loss: 0.3377 - accuracy: 0.8507\n",
      "Epoch 69/100\n",
      "24/24 [==============================] - 0s 565us/step - loss: 0.3342 - accuracy: 0.8520\n",
      "Epoch 70/100\n",
      "24/24 [==============================] - 0s 609us/step - loss: 0.3307 - accuracy: 0.8547\n",
      "Epoch 71/100\n",
      "24/24 [==============================] - 0s 609us/step - loss: 0.3273 - accuracy: 0.8587\n",
      "Epoch 72/100\n",
      "24/24 [==============================] - 0s 609us/step - loss: 0.3241 - accuracy: 0.8600\n",
      "Epoch 73/100\n",
      "24/24 [==============================] - 0s 609us/step - loss: 0.3209 - accuracy: 0.8613\n",
      "Epoch 74/100\n",
      "24/24 [==============================] - 0s 609us/step - loss: 0.3179 - accuracy: 0.8667\n",
      "Epoch 75/100\n",
      "24/24 [==============================] - 0s 609us/step - loss: 0.3151 - accuracy: 0.8693\n",
      "Epoch 76/100\n",
      "24/24 [==============================] - 0s 609us/step - loss: 0.3124 - accuracy: 0.8693\n",
      "Epoch 77/100\n",
      "24/24 [==============================] - 0s 609us/step - loss: 0.3100 - accuracy: 0.8693\n",
      "Epoch 78/100\n",
      "24/24 [==============================] - 0s 565us/step - loss: 0.3078 - accuracy: 0.8733\n",
      "Epoch 79/100\n",
      "24/24 [==============================] - 0s 565us/step - loss: 0.3058 - accuracy: 0.8773\n",
      "Epoch 80/100\n",
      "24/24 [==============================] - 0s 609us/step - loss: 0.3040 - accuracy: 0.8787\n",
      "Epoch 81/100\n"
     ]
    },
    {
     "name": "stdout",
     "output_type": "stream",
     "text": [
      "24/24 [==============================] - 0s 608us/step - loss: 0.3024 - accuracy: 0.8800\n",
      "Epoch 82/100\n",
      "24/24 [==============================] - 0s 565us/step - loss: 0.3009 - accuracy: 0.8813\n",
      "Epoch 83/100\n",
      "24/24 [==============================] - 0s 565us/step - loss: 0.2994 - accuracy: 0.8827\n",
      "Epoch 84/100\n",
      "24/24 [==============================] - 0s 565us/step - loss: 0.2981 - accuracy: 0.8827\n",
      "Epoch 85/100\n",
      "24/24 [==============================] - 0s 565us/step - loss: 0.2968 - accuracy: 0.8840\n",
      "Epoch 86/100\n",
      "24/24 [==============================] - 0s 565us/step - loss: 0.2957 - accuracy: 0.8840\n",
      "Epoch 87/100\n",
      "24/24 [==============================] - 0s 609us/step - loss: 0.2944 - accuracy: 0.8853\n",
      "Epoch 88/100\n",
      "24/24 [==============================] - 0s 609us/step - loss: 0.2933 - accuracy: 0.8867\n",
      "Epoch 89/100\n",
      "24/24 [==============================] - 0s 565us/step - loss: 0.2921 - accuracy: 0.8867\n",
      "Epoch 90/100\n",
      "24/24 [==============================] - 0s 609us/step - loss: 0.2911 - accuracy: 0.8880\n",
      "Epoch 91/100\n",
      "24/24 [==============================] - 0s 565us/step - loss: 0.2901 - accuracy: 0.8880\n",
      "Epoch 92/100\n",
      "24/24 [==============================] - 0s 565us/step - loss: 0.2892 - accuracy: 0.8867\n",
      "Epoch 93/100\n",
      "24/24 [==============================] - 0s 565us/step - loss: 0.2882 - accuracy: 0.8880\n",
      "Epoch 94/100\n",
      "24/24 [==============================] - 0s 609us/step - loss: 0.2874 - accuracy: 0.8893\n",
      "Epoch 95/100\n",
      "24/24 [==============================] - 0s 565us/step - loss: 0.2866 - accuracy: 0.8907\n",
      "Epoch 96/100\n",
      "24/24 [==============================] - 0s 565us/step - loss: 0.2857 - accuracy: 0.8907\n",
      "Epoch 97/100\n",
      "24/24 [==============================] - 0s 565us/step - loss: 0.2850 - accuracy: 0.8907\n",
      "Epoch 98/100\n",
      "24/24 [==============================] - 0s 609us/step - loss: 0.2843 - accuracy: 0.8920\n",
      "Epoch 99/100\n",
      "24/24 [==============================] - 0s 609us/step - loss: 0.2837 - accuracy: 0.8920\n",
      "Epoch 100/100\n",
      "24/24 [==============================] - 0s 565us/step - loss: 0.2829 - accuracy: 0.8920\n"
     ]
    }
   ],
   "source": [
    "# Training the model with the nonlinear data\n",
    "model_moon = nn_model.fit(X_moon_train_scaled, y_moon_train, epochs=100, shuffle=True)"
   ]
  },
  {
   "cell_type": "code",
   "execution_count": 19,
   "id": "78a91040",
   "metadata": {},
   "outputs": [
    {
     "data": {
      "text/plain": [
       "<AxesSubplot:>"
      ]
     },
     "execution_count": 19,
     "metadata": {},
     "output_type": "execute_result"
    },
    {
     "data": {
      "image/png": "[encoded data removed]",
      "text/plain": [
       "<Figure size 432x288 with 1 Axes>"
      ]
     },
     "metadata": {
      "needs_background": "light"
     },
     "output_type": "display_data"
    }
   ],
   "source": [
    "# Create a DataFrame containing training history\n",
    "history_df = pd.DataFrame(model_moon.history, index=range(1,len(model_moon.history[\"loss\"])+1))\n",
    "\n",
    "# Plot the loss\n",
    "history_df.plot(y=\"loss\")"
   ]
  },
  {
   "cell_type": "code",
   "execution_count": 20,
   "id": "17db25e1",
   "metadata": {},
   "outputs": [
    {
     "data": {
      "text/plain": [
       "<AxesSubplot:>"
      ]
     },
     "execution_count": 20,
     "metadata": {},
     "output_type": "execute_result"
    },
    {
     "data": {
      "image/png": "[encoded data removed]",
      "text/plain": [
       "<Figure size 432x288 with 1 Axes>"
      ]
     },
     "metadata": {
      "needs_background": "light"
     },
     "output_type": "display_data"
    }
   ],
   "source": [
    "# Plot the accuracy\n",
    "history_df.plot(y=\"accuracy\")"
   ]
  },
  {
   "cell_type": "code",
   "execution_count": 21,
   "id": "b1a544cd",
   "metadata": {},
   "outputs": [],
   "source": [
    "# Generate our new Sequential model\n",
    "new_model = tf.keras.models.Sequential()"
   ]
  },
  {
   "cell_type": "code",
   "execution_count": 22,
   "id": "ddc9663b",
   "metadata": {},
   "outputs": [],
   "source": [
    "# Add the input and hidden layer\n",
    "number_inputs = 2\n",
    "number_hidden_nodes = 6\n",
    "\n",
    "new_model.add(tf.keras.layers.Dense(units=number_hidden_nodes, activation=\"relu\", input_dim=number_inputs))\n",
    "\n",
    "# Add the output layer that uses a probability activation function\n",
    "new_model.add(tf.keras.layers.Dense(units=1, activation=\"sigmoid\"))"
   ]
  },
  {
   "cell_type": "code",
   "execution_count": 23,
   "id": "863d4157",
   "metadata": {},
   "outputs": [
    {
     "name": "stdout",
     "output_type": "stream",
     "text": [
      "Epoch 1/100\n",
      "24/24 [==============================] - 0s 649us/step - loss: 0.6441 - accuracy: 0.5747\n",
      "Epoch 2/100\n",
      "24/24 [==============================] - 0s 609us/step - loss: 0.6104 - accuracy: 0.7133\n",
      "Epoch 3/100\n",
      "24/24 [==============================] - 0s 565us/step - loss: 0.5776 - accuracy: 0.8653\n",
      "Epoch 4/100\n",
      "24/24 [==============================] - 0s 739us/step - loss: 0.5453 - accuracy: 0.8733\n",
      "Epoch 5/100\n",
      "24/24 [==============================] - 0s 696us/step - loss: 0.5138 - accuracy: 0.8747\n",
      "Epoch 6/100\n",
      "24/24 [==============================] - 0s 696us/step - loss: 0.4835 - accuracy: 0.8773\n",
      "Epoch 7/100\n",
      "24/24 [==============================] - 0s 609us/step - loss: 0.4551 - accuracy: 0.8787\n",
      "Epoch 8/100\n",
      "24/24 [==============================] - 0s 652us/step - loss: 0.4292 - accuracy: 0.8773\n",
      "Epoch 9/100\n",
      "24/24 [==============================] - 0s 609us/step - loss: 0.4058 - accuracy: 0.8787\n",
      "Epoch 10/100\n",
      "24/24 [==============================] - 0s 609us/step - loss: 0.3848 - accuracy: 0.8787\n",
      "Epoch 11/100\n",
      "24/24 [==============================] - 0s 652us/step - loss: 0.3660 - accuracy: 0.8800\n",
      "Epoch 12/100\n",
      "24/24 [==============================] - 0s 652us/step - loss: 0.3502 - accuracy: 0.8800\n",
      "Epoch 13/100\n",
      "24/24 [==============================] - 0s 609us/step - loss: 0.3363 - accuracy: 0.8800\n",
      "Epoch 14/100\n",
      "24/24 [==============================] - 0s 609us/step - loss: 0.3248 - accuracy: 0.8800\n",
      "Epoch 15/100\n",
      "24/24 [==============================] - 0s 609us/step - loss: 0.3148 - accuracy: 0.8773\n",
      "Epoch 16/100\n",
      "24/24 [==============================] - 0s 609us/step - loss: 0.3065 - accuracy: 0.8773\n",
      "Epoch 17/100\n",
      "24/24 [==============================] - 0s 609us/step - loss: 0.2992 - accuracy: 0.8773\n",
      "Epoch 18/100\n",
      "24/24 [==============================] - 0s 652us/step - loss: 0.2933 - accuracy: 0.8773\n",
      "Epoch 19/100\n",
      "24/24 [==============================] - 0s 609us/step - loss: 0.2879 - accuracy: 0.8773\n",
      "Epoch 20/100\n",
      "24/24 [==============================] - 0s 609us/step - loss: 0.2834 - accuracy: 0.8773\n",
      "Epoch 21/100\n",
      "24/24 [==============================] - 0s 565us/step - loss: 0.2796 - accuracy: 0.8787\n",
      "Epoch 22/100\n",
      "24/24 [==============================] - 0s 652us/step - loss: 0.2761 - accuracy: 0.8800\n",
      "Epoch 23/100\n",
      "24/24 [==============================] - 0s 652us/step - loss: 0.2732 - accuracy: 0.8840\n",
      "Epoch 24/100\n",
      "24/24 [==============================] - 0s 609us/step - loss: 0.2708 - accuracy: 0.8853\n",
      "Epoch 25/100\n",
      "24/24 [==============================] - 0s 609us/step - loss: 0.2685 - accuracy: 0.8853\n",
      "Epoch 26/100\n",
      "24/24 [==============================] - 0s 609us/step - loss: 0.2665 - accuracy: 0.8867\n",
      "Epoch 27/100\n",
      "24/24 [==============================] - 0s 609us/step - loss: 0.2648 - accuracy: 0.8853\n",
      "Epoch 28/100\n",
      "24/24 [==============================] - 0s 609us/step - loss: 0.2631 - accuracy: 0.8840\n",
      "Epoch 29/100\n",
      "24/24 [==============================] - 0s 565us/step - loss: 0.2618 - accuracy: 0.8840\n",
      "Epoch 30/100\n",
      "24/24 [==============================] - 0s 565us/step - loss: 0.2604 - accuracy: 0.8880\n",
      "Epoch 31/100\n",
      "24/24 [==============================] - 0s 609us/step - loss: 0.2595 - accuracy: 0.8880\n",
      "Epoch 32/100\n",
      "24/24 [==============================] - 0s 609us/step - loss: 0.2582 - accuracy: 0.8880\n",
      "Epoch 33/100\n",
      "24/24 [==============================] - 0s 783us/step - loss: 0.2573 - accuracy: 0.8893\n",
      "Epoch 34/100\n",
      "24/24 [==============================] - 0s 609us/step - loss: 0.2565 - accuracy: 0.8893\n",
      "Epoch 35/100\n",
      "24/24 [==============================] - 0s 609us/step - loss: 0.2557 - accuracy: 0.8907\n",
      "Epoch 36/100\n",
      "24/24 [==============================] - 0s 609us/step - loss: 0.2549 - accuracy: 0.8907\n",
      "Epoch 37/100\n",
      "24/24 [==============================] - 0s 609us/step - loss: 0.2543 - accuracy: 0.8907\n",
      "Epoch 38/100\n",
      "24/24 [==============================] - 0s 609us/step - loss: 0.2537 - accuracy: 0.8893\n",
      "Epoch 39/100\n",
      "24/24 [==============================] - 0s 609us/step - loss: 0.2532 - accuracy: 0.8907\n",
      "Epoch 40/100\n",
      "24/24 [==============================] - 0s 609us/step - loss: 0.2528 - accuracy: 0.8907\n",
      "Epoch 41/100\n",
      "24/24 [==============================] - 0s 608us/step - loss: 0.2522 - accuracy: 0.8907\n",
      "Epoch 42/100\n",
      "24/24 [==============================] - 0s 609us/step - loss: 0.2518 - accuracy: 0.8907\n",
      "Epoch 43/100\n",
      "24/24 [==============================] - 0s 633us/step - loss: 0.2513 - accuracy: 0.8907\n",
      "Epoch 44/100\n",
      "24/24 [==============================] - 0s 609us/step - loss: 0.2508 - accuracy: 0.8907\n",
      "Epoch 45/100\n",
      "24/24 [==============================] - 0s 609us/step - loss: 0.2505 - accuracy: 0.8907\n",
      "Epoch 46/100\n",
      "24/24 [==============================] - 0s 609us/step - loss: 0.2501 - accuracy: 0.8907\n",
      "Epoch 47/100\n",
      "24/24 [==============================] - 0s 609us/step - loss: 0.2497 - accuracy: 0.8907\n",
      "Epoch 48/100\n",
      "24/24 [==============================] - 0s 609us/step - loss: 0.2493 - accuracy: 0.8907\n",
      "Epoch 49/100\n",
      "24/24 [==============================] - 0s 609us/step - loss: 0.2490 - accuracy: 0.8907\n",
      "Epoch 50/100\n",
      "24/24 [==============================] - 0s 609us/step - loss: 0.2487 - accuracy: 0.8907\n",
      "Epoch 51/100\n",
      "24/24 [==============================] - 0s 609us/step - loss: 0.2483 - accuracy: 0.8907\n",
      "Epoch 52/100\n",
      "24/24 [==============================] - 0s 652us/step - loss: 0.2479 - accuracy: 0.8907\n",
      "Epoch 53/100\n",
      "24/24 [==============================] - 0s 608us/step - loss: 0.2477 - accuracy: 0.8907\n",
      "Epoch 54/100\n",
      "24/24 [==============================] - 0s 609us/step - loss: 0.2473 - accuracy: 0.8907\n",
      "Epoch 55/100\n",
      "24/24 [==============================] - 0s 565us/step - loss: 0.2470 - accuracy: 0.8907\n",
      "Epoch 56/100\n",
      "24/24 [==============================] - 0s 609us/step - loss: 0.2468 - accuracy: 0.8907\n",
      "Epoch 57/100\n",
      "24/24 [==============================] - 0s 609us/step - loss: 0.2465 - accuracy: 0.8907\n",
      "Epoch 58/100\n",
      "24/24 [==============================] - 0s 609us/step - loss: 0.2461 - accuracy: 0.8907\n",
      "Epoch 59/100\n",
      "24/24 [==============================] - 0s 609us/step - loss: 0.2457 - accuracy: 0.8907\n",
      "Epoch 60/100\n",
      "24/24 [==============================] - 0s 609us/step - loss: 0.2454 - accuracy: 0.8907\n",
      "Epoch 61/100\n",
      "24/24 [==============================] - 0s 609us/step - loss: 0.2451 - accuracy: 0.8907\n",
      "Epoch 62/100\n",
      "24/24 [==============================] - 0s 609us/step - loss: 0.2447 - accuracy: 0.8907\n",
      "Epoch 63/100\n",
      "24/24 [==============================] - 0s 609us/step - loss: 0.2445 - accuracy: 0.8907\n",
      "Epoch 64/100\n",
      "24/24 [==============================] - 0s 609us/step - loss: 0.2442 - accuracy: 0.8907\n",
      "Epoch 65/100\n",
      "24/24 [==============================] - 0s 652us/step - loss: 0.2439 - accuracy: 0.8907\n",
      "Epoch 66/100\n",
      "24/24 [==============================] - 0s 609us/step - loss: 0.2436 - accuracy: 0.8907\n",
      "Epoch 67/100\n",
      "24/24 [==============================] - 0s 870us/step - loss: 0.2432 - accuracy: 0.8907\n",
      "Epoch 68/100\n",
      "24/24 [==============================] - 0s 609us/step - loss: 0.2429 - accuracy: 0.8907\n",
      "Epoch 69/100\n",
      "24/24 [==============================] - 0s 565us/step - loss: 0.2425 - accuracy: 0.8907\n",
      "Epoch 70/100\n",
      "24/24 [==============================] - 0s 565us/step - loss: 0.2422 - accuracy: 0.8907\n",
      "Epoch 71/100\n",
      "24/24 [==============================] - 0s 565us/step - loss: 0.2418 - accuracy: 0.8920\n",
      "Epoch 72/100\n",
      "24/24 [==============================] - 0s 565us/step - loss: 0.2415 - accuracy: 0.8920\n",
      "Epoch 73/100\n",
      "24/24 [==============================] - 0s 652us/step - loss: 0.2412 - accuracy: 0.8920\n",
      "Epoch 74/100\n",
      "24/24 [==============================] - 0s 565us/step - loss: 0.2408 - accuracy: 0.8920\n",
      "Epoch 75/100\n",
      "24/24 [==============================] - 0s 609us/step - loss: 0.2406 - accuracy: 0.8920\n",
      "Epoch 76/100\n",
      "24/24 [==============================] - 0s 565us/step - loss: 0.2401 - accuracy: 0.8920\n",
      "Epoch 77/100\n",
      "24/24 [==============================] - 0s 609us/step - loss: 0.2398 - accuracy: 0.8920\n",
      "Epoch 78/100\n",
      "24/24 [==============================] - 0s 565us/step - loss: 0.2395 - accuracy: 0.8920\n",
      "Epoch 79/100\n",
      "24/24 [==============================] - 0s 609us/step - loss: 0.2390 - accuracy: 0.8920\n",
      "Epoch 80/100\n",
      "24/24 [==============================] - 0s 565us/step - loss: 0.2387 - accuracy: 0.8920\n",
      "Epoch 81/100\n"
     ]
    },
    {
     "name": "stdout",
     "output_type": "stream",
     "text": [
      "24/24 [==============================] - 0s 609us/step - loss: 0.2383 - accuracy: 0.8920\n",
      "Epoch 82/100\n",
      "24/24 [==============================] - 0s 609us/step - loss: 0.2379 - accuracy: 0.8920\n",
      "Epoch 83/100\n",
      "24/24 [==============================] - 0s 522us/step - loss: 0.2376 - accuracy: 0.8920\n",
      "Epoch 84/100\n",
      "24/24 [==============================] - 0s 565us/step - loss: 0.2373 - accuracy: 0.8920\n",
      "Epoch 85/100\n",
      "24/24 [==============================] - 0s 565us/step - loss: 0.2369 - accuracy: 0.8920\n",
      "Epoch 86/100\n",
      "24/24 [==============================] - 0s 565us/step - loss: 0.2365 - accuracy: 0.8920\n",
      "Epoch 87/100\n",
      "24/24 [==============================] - 0s 565us/step - loss: 0.2362 - accuracy: 0.8933\n",
      "Epoch 88/100\n",
      "24/24 [==============================] - 0s 609us/step - loss: 0.2358 - accuracy: 0.8920\n",
      "Epoch 89/100\n",
      "24/24 [==============================] - 0s 609us/step - loss: 0.2355 - accuracy: 0.8933\n",
      "Epoch 90/100\n",
      "24/24 [==============================] - 0s 609us/step - loss: 0.2351 - accuracy: 0.8920\n",
      "Epoch 91/100\n",
      "24/24 [==============================] - 0s 609us/step - loss: 0.2348 - accuracy: 0.8933\n",
      "Epoch 92/100\n",
      "24/24 [==============================] - 0s 609us/step - loss: 0.2343 - accuracy: 0.8933\n",
      "Epoch 93/100\n",
      "24/24 [==============================] - 0s 609us/step - loss: 0.2340 - accuracy: 0.8933\n",
      "Epoch 94/100\n",
      "24/24 [==============================] - 0s 609us/step - loss: 0.2337 - accuracy: 0.8933\n",
      "Epoch 95/100\n",
      "24/24 [==============================] - 0s 609us/step - loss: 0.2332 - accuracy: 0.8947\n",
      "Epoch 96/100\n",
      "24/24 [==============================] - 0s 609us/step - loss: 0.2329 - accuracy: 0.8933\n",
      "Epoch 97/100\n",
      "24/24 [==============================] - 0s 609us/step - loss: 0.2324 - accuracy: 0.8947\n",
      "Epoch 98/100\n",
      "24/24 [==============================] - 0s 652us/step - loss: 0.2321 - accuracy: 0.8947\n",
      "Epoch 99/100\n",
      "24/24 [==============================] - 0s 609us/step - loss: 0.2317 - accuracy: 0.8960\n",
      "Epoch 100/100\n",
      "24/24 [==============================] - 0s 652us/step - loss: 0.2313 - accuracy: 0.8960\n"
     ]
    }
   ],
   "source": [
    "# Compile the Sequential model together and customize metrics\n",
    "new_model.compile(loss=\"binary_crossentropy\", optimizer=\"adam\", metrics=[\"accuracy\"])\n",
    "\n",
    "# Fit the model to the training data\n",
    "new_fit_model = new_model.fit(X_moon_train_scaled, y_moon_train, epochs=100, shuffle=True)"
   ]
  },
  {
   "cell_type": "code",
   "execution_count": null,
   "id": "88d21b94",
   "metadata": {},
   "outputs": [],
   "source": []
  }
 ],
 "metadata": {
  "kernelspec": {
   "display_name": "PythonData",
   "language": "python",
   "name": "pythondata"
  },
  "language_info": {
   "codemirror_mode": {
    "name": "ipython",
    "version": 3
   },
   "file_extension": ".py",
   "mimetype": "text/x-python",
   "name": "python",
   "nbconvert_exporter": "python",
   "pygments_lexer": "ipython3",
   "version": "3.7.11"
  }
 },
 "nbformat": 4,
 "nbformat_minor": 5
}
